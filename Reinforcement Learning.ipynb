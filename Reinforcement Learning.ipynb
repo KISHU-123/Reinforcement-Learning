{
 "cells": [
  {
   "cell_type": "markdown",
   "metadata": {},
   "source": [
    "### Some common terms\n",
    "\n",
    "  >Agent\n",
    "  \n",
    "  >Environment\n",
    "  \n",
    "  >Actions,Rewards,Obseravtions"
   ]
  },
  {
   "cell_type": "code",
   "execution_count": 1,
   "metadata": {},
   "outputs": [
    {
     "name": "stdout",
     "output_type": "stream",
     "text": [
      "Requirement already satisfied: gym in c:\\users\\admin\\anaconda3\\lib\\site-packages (0.17.2)\n",
      "Requirement already satisfied: pyglet<=1.5.0,>=1.4.0 in c:\\users\\admin\\anaconda3\\lib\\site-packages (from gym) (1.5.0)\n",
      "Requirement already satisfied: numpy>=1.10.4 in c:\\users\\admin\\anaconda3\\lib\\site-packages (from gym) (1.18.1)\n",
      "Requirement already satisfied: cloudpickle<1.4.0,>=1.2.0 in c:\\users\\admin\\anaconda3\\lib\\site-packages (from gym) (1.3.0)\n",
      "Requirement already satisfied: scipy in c:\\users\\admin\\anaconda3\\lib\\site-packages (from gym) (1.4.1)\n",
      "Requirement already satisfied: future in c:\\users\\admin\\anaconda3\\lib\\site-packages (from pyglet<=1.5.0,>=1.4.0->gym) (0.18.2)\n"
     ]
    },
    {
     "name": "stderr",
     "output_type": "stream",
     "text": [
      "WARNING: You are using pip version 20.1.1; however, version 20.2.3 is available.\n",
      "You should consider upgrading via the 'c:\\users\\admin\\anaconda3\\python.exe -m pip install --upgrade pip' command.\n"
     ]
    }
   ],
   "source": [
    "!pip install gym"
   ]
  },
  {
   "cell_type": "markdown",
   "metadata": {},
   "source": [
    "### Interacting with gym API"
   ]
  },
  {
   "cell_type": "code",
   "execution_count": 41,
   "metadata": {},
   "outputs": [],
   "source": [
    "import gym "
   ]
  },
  {
   "cell_type": "code",
   "execution_count": 42,
   "metadata": {},
   "outputs": [],
   "source": [
    "#Create environment\n",
    "env = gym.make('CartPole-v0')\n",
    "\n"
   ]
  },
  {
   "cell_type": "markdown",
   "metadata": {},
   "source": [
    "### Certain methods and attributes\n",
    "\n",
    "- action_space\n",
    "\n",
    "- obseravtions_space\n",
    "\n",
    "- reset() : returns initials state and resets the environment\n",
    "\n",
    "- step()\n",
    "\n",
    "- render()"
   ]
  },
  {
   "cell_type": "code",
   "execution_count": 43,
   "metadata": {},
   "outputs": [
    {
     "data": {
      "text/plain": [
       "array([-0.01066226,  0.0377022 , -0.04893415,  0.0112236 ])"
      ]
     },
     "execution_count": 43,
     "metadata": {},
     "output_type": "execute_result"
    }
   ],
   "source": [
    "env.reset()#gives environment initial state"
   ]
  },
  {
   "cell_type": "code",
   "execution_count": 44,
   "metadata": {},
   "outputs": [
    {
     "data": {
      "text/plain": [
       "Discrete(2)"
      ]
     },
     "execution_count": 44,
     "metadata": {},
     "output_type": "execute_result"
    }
   ],
   "source": [
    "env.action_space"
   ]
  },
  {
   "cell_type": "code",
   "execution_count": 45,
   "metadata": {},
   "outputs": [
    {
     "data": {
      "text/plain": [
       "2"
      ]
     },
     "execution_count": 45,
     "metadata": {},
     "output_type": "execute_result"
    }
   ],
   "source": [
    "env.action_space.n"
   ]
  },
  {
   "cell_type": "code",
   "execution_count": 46,
   "metadata": {},
   "outputs": [
    {
     "data": {
      "text/plain": [
       "Box(4,)"
      ]
     },
     "execution_count": 46,
     "metadata": {},
     "output_type": "execute_result"
    }
   ],
   "source": [
    "env.observation_space#Box class is a class which represent n dimenional tensor"
   ]
  },
  {
   "cell_type": "code",
   "execution_count": 47,
   "metadata": {},
   "outputs": [
    {
     "name": "stderr",
     "output_type": "stream",
     "text": [
      "C:\\Users\\admin\\anaconda3\\lib\\site-packages\\gym\\logger.py:30: UserWarning: \u001b[33mWARN: You are calling 'step()' even though this environment has already returned done = True. You should always call 'reset()' once you receive 'done = True' -- any further steps are undefined behavior.\u001b[0m\n",
      "  warnings.warn(colorize('%s: %s'%('WARN', msg % args), 'yellow'))\n"
     ]
    }
   ],
   "source": [
    "env.reset()\n",
    "for i in range(1000):\n",
    "    random_action = env.action_space.sample() # take a random action\n",
    "    env.step(random_action)#randomly move to left or right\n",
    "    env.render()\n",
    "    \n",
    "env.close()"
   ]
  },
  {
   "cell_type": "code",
   "execution_count": 48,
   "metadata": {},
   "outputs": [],
   "source": [
    "#max reward = 200(win)\n"
   ]
  },
  {
   "cell_type": "markdown",
   "metadata": {},
   "source": [
    "### Playing Game with a random strategy\n",
    "\n",
    "- Game Episode\n",
    "\n",
    "- Step() Function\n",
    "\n",
    "- Game over?"
   ]
  },
  {
   "cell_type": "code",
   "execution_count": 49,
   "metadata": {},
   "outputs": [
    {
     "name": "stdout",
     "output_type": "stream",
     "text": [
      "Game Episode: 0/20 High Score:19\n",
      "Game Episode: 1/20 High Score:10\n",
      "Game Episode: 2/20 High Score:21\n",
      "Game Episode: 3/20 High Score:13\n",
      "Game Episode: 4/20 High Score:18\n",
      "Game Episode: 5/20 High Score:10\n",
      "Game Episode: 6/20 High Score:12\n",
      "Game Episode: 7/20 High Score:14\n",
      "Game Episode: 9/20 High Score:12\n",
      "Game Episode: 10/20 High Score:14\n",
      "Game Episode: 11/20 High Score:31\n",
      "Game Episode: 12/20 High Score:23\n",
      "Game Episode: 13/20 High Score:19\n",
      "Game Episode: 14/20 High Score:8\n",
      "Game Episode: 15/20 High Score:33\n",
      "Game Episode: 16/20 High Score:21\n",
      "Game Episode: 17/20 High Score:11\n",
      "Game Episode: 18/20 High Score:15\n",
      "Game Episode: 19/20 High Score:14\n",
      "All 20 episodes over\n"
     ]
    }
   ],
   "source": [
    "for e in range(20):#e = episodes\n",
    "    #play 20 games from satrt to end\n",
    "    observation = env.reset()\n",
    "    for t in range(50):\n",
    "        env.render()\n",
    "        action = env.action_space.sample()\n",
    "        obs,reward,done,other_info = env.step(action)\n",
    "        if done:\n",
    "            #game episode is over\n",
    "            print(\"Game Episode: {}/{} High Score:{}\".format(e,20,t))\n",
    "            break\n",
    "env.close()\n",
    "print(\"All 20 episodes over\")"
   ]
  },
  {
   "cell_type": "markdown",
   "metadata": {},
   "source": [
    "### Q Learning"
   ]
  },
  {
   "cell_type": "markdown",
   "metadata": {},
   "source": [
    "### Agent design and Neural Network"
   ]
  },
  {
   "cell_type": "code",
   "execution_count": 50,
   "metadata": {},
   "outputs": [],
   "source": [
    "import numpy as np\n",
    "import matplotlib.pyplot as plt\n",
    "import os\n",
    "from collections import deque\n",
    "from keras.models import Sequential\n",
    "from keras.layers import Dense\n",
    "from keras.optimizers import Adam\n",
    "import random"
   ]
  },
  {
   "cell_type": "markdown",
   "metadata": {},
   "source": [
    "### Training the DQN agent(DeeoQ-learner)"
   ]
  },
  {
   "cell_type": "code",
   "execution_count": 55,
   "metadata": {},
   "outputs": [],
   "source": [
    "n_episodes= 1000\n",
    "out_dir = \"Untitled Folder 2/\"\n"
   ]
  },
  {
   "cell_type": "code",
   "execution_count": 56,
   "metadata": {},
   "outputs": [],
   "source": [
    "agent = Agent(state_size=4,action_size=2)\n",
    "done = False\n",
    "state_size=4\n",
    "action_size=2"
   ]
  },
  {
   "cell_type": "code",
   "execution_count": 57,
   "metadata": {},
   "outputs": [
    {
     "ename": "TypeError",
     "evalue": "render() got an unexpected keyword argument 'close'",
     "output_type": "error",
     "traceback": [
      "\u001b[1;31m---------------------------------------------------------------------------\u001b[0m",
      "\u001b[1;31mTypeError\u001b[0m                                 Traceback (most recent call last)",
      "\u001b[1;32m<ipython-input-57-559fa8046c12>\u001b[0m in \u001b[0;36m<module>\u001b[1;34m\u001b[0m\n\u001b[0;32m      3\u001b[0m     \u001b[0mstate\u001b[0m \u001b[1;33m=\u001b[0m \u001b[0mnp\u001b[0m\u001b[1;33m.\u001b[0m\u001b[0mreshape\u001b[0m\u001b[1;33m(\u001b[0m\u001b[0mstate\u001b[0m\u001b[1;33m,\u001b[0m\u001b[1;33m[\u001b[0m\u001b[1;36m1\u001b[0m\u001b[1;33m,\u001b[0m\u001b[0mstate_size\u001b[0m\u001b[1;33m]\u001b[0m\u001b[1;33m)\u001b[0m\u001b[1;33m\u001b[0m\u001b[1;33m\u001b[0m\u001b[0m\n\u001b[0;32m      4\u001b[0m     \u001b[1;32mfor\u001b[0m \u001b[0mtime\u001b[0m \u001b[1;32min\u001b[0m \u001b[0mrange\u001b[0m\u001b[1;33m(\u001b[0m\u001b[1;36m500\u001b[0m\u001b[1;33m)\u001b[0m\u001b[1;33m:\u001b[0m\u001b[1;33m\u001b[0m\u001b[1;33m\u001b[0m\u001b[0m\n\u001b[1;32m----> 5\u001b[1;33m         \u001b[0menv\u001b[0m\u001b[1;33m.\u001b[0m\u001b[0mrender\u001b[0m\u001b[1;33m(\u001b[0m\u001b[0mclose\u001b[0m\u001b[1;33m=\u001b[0m\u001b[1;32mTrue\u001b[0m\u001b[1;33m)\u001b[0m\u001b[1;33m\u001b[0m\u001b[1;33m\u001b[0m\u001b[0m\n\u001b[0m\u001b[0;32m      6\u001b[0m         \u001b[0maction\u001b[0m \u001b[1;33m=\u001b[0m \u001b[0magent\u001b[0m\u001b[1;33m.\u001b[0m\u001b[0mact\u001b[0m\u001b[1;33m(\u001b[0m\u001b[0mstate\u001b[0m\u001b[1;33m)\u001b[0m\u001b[1;33m\u001b[0m\u001b[1;33m\u001b[0m\u001b[0m\n\u001b[0;32m      7\u001b[0m         \u001b[0mnext_state\u001b[0m\u001b[1;33m,\u001b[0m\u001b[0mreward\u001b[0m\u001b[1;33m,\u001b[0m\u001b[0mdone\u001b[0m\u001b[1;33m,\u001b[0m\u001b[0mother_info\u001b[0m \u001b[1;33m=\u001b[0m \u001b[0menv\u001b[0m\u001b[1;33m.\u001b[0m\u001b[0mstep\u001b[0m\u001b[1;33m(\u001b[0m\u001b[0maction\u001b[0m\u001b[1;33m)\u001b[0m\u001b[1;33m\u001b[0m\u001b[1;33m\u001b[0m\u001b[0m\n",
      "\u001b[1;32m~\\anaconda3\\lib\\site-packages\\gym\\core.py\u001b[0m in \u001b[0;36mrender\u001b[1;34m(self, mode, **kwargs)\u001b[0m\n\u001b[0;32m    231\u001b[0m \u001b[1;33m\u001b[0m\u001b[0m\n\u001b[0;32m    232\u001b[0m     \u001b[1;32mdef\u001b[0m \u001b[0mrender\u001b[0m\u001b[1;33m(\u001b[0m\u001b[0mself\u001b[0m\u001b[1;33m,\u001b[0m \u001b[0mmode\u001b[0m\u001b[1;33m=\u001b[0m\u001b[1;34m'human'\u001b[0m\u001b[1;33m,\u001b[0m \u001b[1;33m**\u001b[0m\u001b[0mkwargs\u001b[0m\u001b[1;33m)\u001b[0m\u001b[1;33m:\u001b[0m\u001b[1;33m\u001b[0m\u001b[1;33m\u001b[0m\u001b[0m\n\u001b[1;32m--> 233\u001b[1;33m         \u001b[1;32mreturn\u001b[0m \u001b[0mself\u001b[0m\u001b[1;33m.\u001b[0m\u001b[0menv\u001b[0m\u001b[1;33m.\u001b[0m\u001b[0mrender\u001b[0m\u001b[1;33m(\u001b[0m\u001b[0mmode\u001b[0m\u001b[1;33m,\u001b[0m \u001b[1;33m**\u001b[0m\u001b[0mkwargs\u001b[0m\u001b[1;33m)\u001b[0m\u001b[1;33m\u001b[0m\u001b[1;33m\u001b[0m\u001b[0m\n\u001b[0m\u001b[0;32m    234\u001b[0m \u001b[1;33m\u001b[0m\u001b[0m\n\u001b[0;32m    235\u001b[0m     \u001b[1;32mdef\u001b[0m \u001b[0mclose\u001b[0m\u001b[1;33m(\u001b[0m\u001b[0mself\u001b[0m\u001b[1;33m)\u001b[0m\u001b[1;33m:\u001b[0m\u001b[1;33m\u001b[0m\u001b[1;33m\u001b[0m\u001b[0m\n",
      "\u001b[1;31mTypeError\u001b[0m: render() got an unexpected keyword argument 'close'"
     ]
    }
   ],
   "source": [
    "for e in range(n_episodes):\n",
    "    state = env.reset()\n",
    "    state = np.reshape(state,[1,state_size])\n",
    "    for time in range(500):\n",
    "        env.render(close=True)\n",
    "        action = agent.act(state)\n",
    "        next_state,reward,done,other_info = env.step(action)\n",
    "        reward = reward if not done else -10\n",
    "        next_state= np.reshape(next_state,[1,state_size])\n",
    "        agent.remember(state,action,reward,next_state,done)#Exp for the agent\n",
    "        if done:\n",
    "            print(\"Game Episode: {}/{} High Score:{} Exploration Rate:{:.2f}\".format(e,n_episodes,time,agent.epsilon))\n",
    "            break\n",
    "    if len(agent.memory)>32:\n",
    "        agent.train(32)\n",
    "    if e%50 == 0:\n",
    "        agent.save(out_dir+\"weights_\"+'{:04d}'.format(e)+\".hdf5\")\n",
    "print(\"Model trained\")  \n",
    "env.close()"
   ]
  },
  {
   "cell_type": "code",
   "execution_count": 36,
   "metadata": {},
   "outputs": [],
   "source": [
    "class Agent:\n",
    "    def __init__(self,state_size,action_size):\n",
    "        self.state_size = state_size\n",
    "        self.action_size = action_size\n",
    "        self.memory = deque(maxlen=2000)\n",
    "        self.gamma = 0.95 #Discount Factor\n",
    "        self.epsilon = 1.0 # Exploration Rate: How much to act randomly, \n",
    "        self.epsilon_decay = 0.995\n",
    "        self.epsilon_min = 0.01\n",
    "        self.learning_rate = 0.001 \n",
    "        self.model = self._create_model()\n",
    "        \n",
    "    \n",
    "    def _create_model(self):\n",
    "        #Neural Network To Approximate Q-Value function\n",
    "        model = Sequential()\n",
    "        model.add(Dense(24,input_dim=self.state_size,activation='relu')) #1st Hidden Layer\n",
    "        model.add(Dense(24,activation='relu')) #2nd Hidden Layer\n",
    "        model.add(Dense(self.action_size,activation='linear'))\n",
    "        model.compile(loss='mse',optimizer=Adam(lr=self.learning_rate))\n",
    "        return model\n",
    "    \n",
    "    def remember(self,state,action,reward,next_state,done):\n",
    "        self.memory.append((state,action,reward,next_state,done)) #remembering previous experiences\n",
    "        \n",
    "    def act(self,state):\n",
    "        # Exploration vs Exploitation\n",
    "        if np.random.rand()<=self.epsilon:\n",
    "            return random.randrange(self.action_size)\n",
    "        act_values = self.model.predict(state) # predict reward value based upon current state\n",
    "        return np.argmax(act_values[0]) #Left or Right\n",
    "    \n",
    "    def train(self,batch_size=32): #method that trains NN with experiences sampled from memory\n",
    "        minibatch = random.sample(self.memory,batch_size)\n",
    "        for state,action,reward,next_state,done in minibatch:\n",
    "            \n",
    "            if not done: #boolean \n",
    "                target = reward + self.gamma*np.amax(self.model.predict(next_state)[0])\n",
    "            else:\n",
    "                target = reward\n",
    "            target_f = self.model.predict(state)\n",
    "            target_f[0][action] = target\n",
    "            self.model.fit(state,target_f,epochs=1,verbose=0) #single epoch, x =state, y = target_f, loss--> target_f - \n",
    "            \n",
    "        if self.epsilon > self.epsilon_min:\n",
    "            self.epsilon *= self.epsilon_decay\n",
    "    \n",
    "    def load(self,name):\n",
    "        self.model.load_weights(name)\n",
    "    def save(self,name):\n",
    "        self.model.save_weights(name)"
   ]
  },
  {
   "cell_type": "code",
   "execution_count": 37,
   "metadata": {},
   "outputs": [],
   "source": [
    "n_episodes= 500\n",
    "out_dir = \"Untitled Folder 2/\"\n"
   ]
  },
  {
   "cell_type": "code",
   "execution_count": 38,
   "metadata": {},
   "outputs": [],
   "source": [
    "agent = Agent(state_size=4,action_size=2)\n",
    "done = False\n",
    "state_size=4\n",
    "action_size=2"
   ]
  },
  {
   "cell_type": "code",
   "execution_count": 40,
   "metadata": {},
   "outputs": [
    {
     "name": "stdout",
     "output_type": "stream",
     "text": [
      "Game Episode :0/500, High Score:17,Exploration Rate:1.0\n",
      "Game Episode :1/500, High Score:10,Exploration Rate:1.0\n",
      "Game Episode :2/500, High Score:16,Exploration Rate:1.0\n",
      "Game Episode :3/500, High Score:34,Exploration Rate:0.99\n",
      "Game Episode :4/500, High Score:19,Exploration Rate:0.99\n",
      "Game Episode :5/500, High Score:23,Exploration Rate:0.99\n",
      "Game Episode :6/500, High Score:20,Exploration Rate:0.98\n",
      "Game Episode :7/500, High Score:10,Exploration Rate:0.98\n",
      "Game Episode :8/500, High Score:17,Exploration Rate:0.97\n",
      "Game Episode :9/500, High Score:14,Exploration Rate:0.97\n",
      "Game Episode :10/500, High Score:11,Exploration Rate:0.96\n",
      "Game Episode :11/500, High Score:34,Exploration Rate:0.96\n",
      "Game Episode :12/500, High Score:22,Exploration Rate:0.95\n",
      "Game Episode :13/500, High Score:15,Exploration Rate:0.95\n",
      "Game Episode :14/500, High Score:18,Exploration Rate:0.94\n",
      "Game Episode :15/500, High Score:29,Exploration Rate:0.94\n",
      "Game Episode :16/500, High Score:10,Exploration Rate:0.93\n",
      "Game Episode :17/500, High Score:37,Exploration Rate:0.93\n",
      "Game Episode :18/500, High Score:15,Exploration Rate:0.92\n",
      "Game Episode :19/500, High Score:20,Exploration Rate:0.92\n",
      "Game Episode :20/500, High Score:25,Exploration Rate:0.91\n",
      "Game Episode :21/500, High Score:30,Exploration Rate:0.91\n",
      "Game Episode :22/500, High Score:19,Exploration Rate:0.9\n",
      "Game Episode :23/500, High Score:9,Exploration Rate:0.9\n",
      "Game Episode :24/500, High Score:14,Exploration Rate:0.9\n",
      "Game Episode :25/500, High Score:10,Exploration Rate:0.89\n",
      "Game Episode :26/500, High Score:10,Exploration Rate:0.89\n",
      "Game Episode :27/500, High Score:9,Exploration Rate:0.88\n",
      "Game Episode :28/500, High Score:28,Exploration Rate:0.88\n",
      "Game Episode :29/500, High Score:15,Exploration Rate:0.87\n",
      "Game Episode :30/500, High Score:15,Exploration Rate:0.87\n",
      "Game Episode :31/500, High Score:16,Exploration Rate:0.86\n",
      "Game Episode :32/500, High Score:14,Exploration Rate:0.86\n",
      "Game Episode :33/500, High Score:21,Exploration Rate:0.86\n",
      "Game Episode :34/500, High Score:13,Exploration Rate:0.85\n",
      "Game Episode :35/500, High Score:15,Exploration Rate:0.85\n",
      "Game Episode :36/500, High Score:10,Exploration Rate:0.84\n",
      "Game Episode :37/500, High Score:12,Exploration Rate:0.84\n",
      "Game Episode :38/500, High Score:28,Exploration Rate:0.83\n",
      "Game Episode :39/500, High Score:14,Exploration Rate:0.83\n",
      "Game Episode :40/500, High Score:45,Exploration Rate:0.83\n",
      "Game Episode :41/500, High Score:20,Exploration Rate:0.82\n",
      "Game Episode :42/500, High Score:24,Exploration Rate:0.82\n",
      "Game Episode :43/500, High Score:17,Exploration Rate:0.81\n",
      "Game Episode :44/500, High Score:9,Exploration Rate:0.81\n",
      "Game Episode :45/500, High Score:24,Exploration Rate:0.81\n",
      "Game Episode :46/500, High Score:25,Exploration Rate:0.8\n",
      "Game Episode :47/500, High Score:29,Exploration Rate:0.8\n",
      "Game Episode :48/500, High Score:34,Exploration Rate:0.79\n",
      "Game Episode :49/500, High Score:31,Exploration Rate:0.79\n",
      "Game Episode :50/500, High Score:25,Exploration Rate:0.79\n",
      "Game Episode :51/500, High Score:66,Exploration Rate:0.78\n",
      "Game Episode :52/500, High Score:10,Exploration Rate:0.78\n",
      "Game Episode :53/500, High Score:14,Exploration Rate:0.77\n",
      "Game Episode :54/500, High Score:19,Exploration Rate:0.77\n",
      "Game Episode :55/500, High Score:21,Exploration Rate:0.77\n",
      "Game Episode :56/500, High Score:32,Exploration Rate:0.76\n",
      "Game Episode :57/500, High Score:16,Exploration Rate:0.76\n",
      "Game Episode :58/500, High Score:57,Exploration Rate:0.76\n",
      "Game Episode :59/500, High Score:12,Exploration Rate:0.75\n",
      "Game Episode :60/500, High Score:15,Exploration Rate:0.75\n",
      "Game Episode :61/500, High Score:11,Exploration Rate:0.74\n",
      "Game Episode :62/500, High Score:25,Exploration Rate:0.74\n",
      "Game Episode :63/500, High Score:74,Exploration Rate:0.74\n",
      "Game Episode :64/500, High Score:17,Exploration Rate:0.73\n",
      "Game Episode :65/500, High Score:16,Exploration Rate:0.73\n",
      "Game Episode :66/500, High Score:45,Exploration Rate:0.73\n",
      "Game Episode :67/500, High Score:29,Exploration Rate:0.72\n",
      "Game Episode :68/500, High Score:30,Exploration Rate:0.72\n",
      "Game Episode :69/500, High Score:24,Exploration Rate:0.71\n",
      "Game Episode :70/500, High Score:13,Exploration Rate:0.71\n",
      "Game Episode :71/500, High Score:25,Exploration Rate:0.71\n",
      "Game Episode :72/500, High Score:16,Exploration Rate:0.7\n",
      "Game Episode :73/500, High Score:11,Exploration Rate:0.7\n",
      "Game Episode :74/500, High Score:23,Exploration Rate:0.7\n",
      "Game Episode :75/500, High Score:22,Exploration Rate:0.69\n",
      "Game Episode :76/500, High Score:15,Exploration Rate:0.69\n",
      "Game Episode :77/500, High Score:17,Exploration Rate:0.69\n",
      "Game Episode :78/500, High Score:48,Exploration Rate:0.68\n",
      "Game Episode :79/500, High Score:11,Exploration Rate:0.68\n",
      "Game Episode :80/500, High Score:27,Exploration Rate:0.68\n",
      "Game Episode :81/500, High Score:31,Exploration Rate:0.67\n",
      "Game Episode :82/500, High Score:25,Exploration Rate:0.67\n",
      "Game Episode :83/500, High Score:35,Exploration Rate:0.67\n",
      "Game Episode :84/500, High Score:12,Exploration Rate:0.66\n",
      "Game Episode :85/500, High Score:9,Exploration Rate:0.66\n",
      "Game Episode :86/500, High Score:88,Exploration Rate:0.66\n",
      "Game Episode :87/500, High Score:16,Exploration Rate:0.65\n",
      "Game Episode :88/500, High Score:49,Exploration Rate:0.65\n",
      "Game Episode :89/500, High Score:30,Exploration Rate:0.65\n",
      "Game Episode :90/500, High Score:76,Exploration Rate:0.64\n",
      "Game Episode :91/500, High Score:39,Exploration Rate:0.64\n",
      "Game Episode :92/500, High Score:20,Exploration Rate:0.64\n",
      "Game Episode :93/500, High Score:20,Exploration Rate:0.63\n",
      "Game Episode :94/500, High Score:18,Exploration Rate:0.63\n",
      "Game Episode :95/500, High Score:35,Exploration Rate:0.63\n",
      "Game Episode :96/500, High Score:21,Exploration Rate:0.62\n",
      "Game Episode :97/500, High Score:33,Exploration Rate:0.62\n",
      "Game Episode :98/500, High Score:57,Exploration Rate:0.62\n",
      "Game Episode :99/500, High Score:15,Exploration Rate:0.61\n",
      "Game Episode :100/500, High Score:49,Exploration Rate:0.61\n",
      "Game Episode :101/500, High Score:17,Exploration Rate:0.61\n",
      "Game Episode :102/500, High Score:33,Exploration Rate:0.61\n",
      "Game Episode :103/500, High Score:43,Exploration Rate:0.6\n",
      "Game Episode :104/500, High Score:27,Exploration Rate:0.6\n",
      "Game Episode :105/500, High Score:13,Exploration Rate:0.6\n",
      "Game Episode :106/500, High Score:14,Exploration Rate:0.59\n",
      "Game Episode :107/500, High Score:30,Exploration Rate:0.59\n",
      "Game Episode :108/500, High Score:41,Exploration Rate:0.59\n",
      "Game Episode :109/500, High Score:38,Exploration Rate:0.58\n",
      "Game Episode :110/500, High Score:93,Exploration Rate:0.58\n",
      "Game Episode :111/500, High Score:15,Exploration Rate:0.58\n",
      "Game Episode :112/500, High Score:30,Exploration Rate:0.58\n",
      "Game Episode :113/500, High Score:31,Exploration Rate:0.57\n",
      "Game Episode :114/500, High Score:67,Exploration Rate:0.57\n",
      "Game Episode :115/500, High Score:52,Exploration Rate:0.57\n",
      "Game Episode :116/500, High Score:133,Exploration Rate:0.56\n",
      "Game Episode :117/500, High Score:28,Exploration Rate:0.56\n",
      "Game Episode :118/500, High Score:38,Exploration Rate:0.56\n",
      "Game Episode :119/500, High Score:21,Exploration Rate:0.56\n",
      "Game Episode :120/500, High Score:16,Exploration Rate:0.55\n",
      "Game Episode :121/500, High Score:24,Exploration Rate:0.55\n",
      "Game Episode :122/500, High Score:79,Exploration Rate:0.55\n",
      "Game Episode :123/500, High Score:61,Exploration Rate:0.55\n",
      "Game Episode :124/500, High Score:38,Exploration Rate:0.54\n",
      "Game Episode :125/500, High Score:63,Exploration Rate:0.54\n",
      "Game Episode :126/500, High Score:46,Exploration Rate:0.54\n",
      "Game Episode :127/500, High Score:65,Exploration Rate:0.53\n",
      "Game Episode :128/500, High Score:28,Exploration Rate:0.53\n",
      "Game Episode :129/500, High Score:30,Exploration Rate:0.53\n",
      "Game Episode :130/500, High Score:60,Exploration Rate:0.53\n",
      "Game Episode :131/500, High Score:20,Exploration Rate:0.52\n",
      "Game Episode :132/500, High Score:29,Exploration Rate:0.52\n",
      "Game Episode :133/500, High Score:21,Exploration Rate:0.52\n",
      "Game Episode :134/500, High Score:28,Exploration Rate:0.52\n",
      "Game Episode :135/500, High Score:21,Exploration Rate:0.51\n",
      "Game Episode :136/500, High Score:9,Exploration Rate:0.51\n",
      "Game Episode :137/500, High Score:41,Exploration Rate:0.51\n",
      "Game Episode :138/500, High Score:19,Exploration Rate:0.51\n",
      "Game Episode :139/500, High Score:82,Exploration Rate:0.5\n",
      "Game Episode :140/500, High Score:77,Exploration Rate:0.5\n",
      "Game Episode :141/500, High Score:16,Exploration Rate:0.5\n"
     ]
    },
    {
     "name": "stdout",
     "output_type": "stream",
     "text": [
      "Game Episode :142/500, High Score:30,Exploration Rate:0.5\n",
      "Game Episode :143/500, High Score:13,Exploration Rate:0.49\n",
      "Game Episode :144/500, High Score:30,Exploration Rate:0.49\n",
      "Game Episode :145/500, High Score:33,Exploration Rate:0.49\n",
      "Game Episode :146/500, High Score:42,Exploration Rate:0.49\n",
      "Game Episode :147/500, High Score:69,Exploration Rate:0.48\n",
      "Game Episode :148/500, High Score:35,Exploration Rate:0.48\n",
      "Game Episode :149/500, High Score:15,Exploration Rate:0.48\n",
      "Game Episode :150/500, High Score:53,Exploration Rate:0.48\n",
      "Game Episode :151/500, High Score:30,Exploration Rate:0.47\n",
      "Game Episode :152/500, High Score:82,Exploration Rate:0.47\n",
      "Game Episode :153/500, High Score:61,Exploration Rate:0.47\n",
      "Game Episode :154/500, High Score:32,Exploration Rate:0.47\n",
      "Game Episode :155/500, High Score:58,Exploration Rate:0.46\n",
      "Game Episode :156/500, High Score:31,Exploration Rate:0.46\n",
      "Game Episode :157/500, High Score:30,Exploration Rate:0.46\n",
      "Game Episode :158/500, High Score:16,Exploration Rate:0.46\n",
      "Game Episode :159/500, High Score:13,Exploration Rate:0.46\n",
      "Game Episode :160/500, High Score:40,Exploration Rate:0.45\n",
      "Game Episode :161/500, High Score:18,Exploration Rate:0.45\n",
      "Game Episode :162/500, High Score:63,Exploration Rate:0.45\n",
      "Game Episode :163/500, High Score:48,Exploration Rate:0.45\n",
      "Game Episode :164/500, High Score:27,Exploration Rate:0.44\n",
      "Game Episode :165/500, High Score:24,Exploration Rate:0.44\n",
      "Game Episode :166/500, High Score:21,Exploration Rate:0.44\n",
      "Game Episode :167/500, High Score:112,Exploration Rate:0.44\n",
      "Game Episode :168/500, High Score:58,Exploration Rate:0.44\n",
      "Game Episode :169/500, High Score:54,Exploration Rate:0.43\n",
      "Game Episode :170/500, High Score:46,Exploration Rate:0.43\n",
      "Game Episode :171/500, High Score:121,Exploration Rate:0.43\n",
      "Game Episode :172/500, High Score:36,Exploration Rate:0.43\n",
      "Game Episode :173/500, High Score:38,Exploration Rate:0.42\n",
      "Game Episode :174/500, High Score:29,Exploration Rate:0.42\n",
      "Game Episode :175/500, High Score:49,Exploration Rate:0.42\n",
      "Game Episode :176/500, High Score:37,Exploration Rate:0.42\n",
      "Game Episode :177/500, High Score:57,Exploration Rate:0.42\n",
      "Game Episode :178/500, High Score:51,Exploration Rate:0.41\n",
      "Game Episode :179/500, High Score:167,Exploration Rate:0.41\n",
      "Game Episode :180/500, High Score:33,Exploration Rate:0.41\n",
      "Game Episode :181/500, High Score:22,Exploration Rate:0.41\n",
      "Game Episode :182/500, High Score:14,Exploration Rate:0.41\n",
      "Game Episode :183/500, High Score:77,Exploration Rate:0.4\n",
      "Game Episode :184/500, High Score:59,Exploration Rate:0.4\n",
      "Game Episode :185/500, High Score:30,Exploration Rate:0.4\n",
      "Game Episode :186/500, High Score:140,Exploration Rate:0.4\n",
      "Game Episode :187/500, High Score:117,Exploration Rate:0.4\n",
      "Game Episode :188/500, High Score:68,Exploration Rate:0.39\n",
      "Game Episode :189/500, High Score:149,Exploration Rate:0.39\n",
      "Game Episode :190/500, High Score:119,Exploration Rate:0.39\n",
      "Game Episode :191/500, High Score:45,Exploration Rate:0.39\n",
      "Game Episode :192/500, High Score:53,Exploration Rate:0.39\n",
      "Game Episode :193/500, High Score:127,Exploration Rate:0.38\n",
      "Game Episode :194/500, High Score:52,Exploration Rate:0.38\n",
      "Game Episode :195/500, High Score:199,Exploration Rate:0.38\n",
      "Game Episode :196/500, High Score:189,Exploration Rate:0.38\n",
      "Game Episode :197/500, High Score:106,Exploration Rate:0.38\n",
      "Game Episode :198/500, High Score:102,Exploration Rate:0.37\n",
      "Game Episode :199/500, High Score:31,Exploration Rate:0.37\n",
      "Game Episode :200/500, High Score:51,Exploration Rate:0.37\n",
      "Game Episode :201/500, High Score:140,Exploration Rate:0.37\n",
      "Game Episode :202/500, High Score:146,Exploration Rate:0.37\n",
      "Game Episode :203/500, High Score:146,Exploration Rate:0.37\n",
      "Game Episode :204/500, High Score:70,Exploration Rate:0.36\n",
      "Game Episode :205/500, High Score:199,Exploration Rate:0.36\n",
      "Game Episode :206/500, High Score:131,Exploration Rate:0.36\n",
      "Game Episode :207/500, High Score:137,Exploration Rate:0.36\n",
      "Game Episode :208/500, High Score:199,Exploration Rate:0.36\n",
      "Game Episode :209/500, High Score:148,Exploration Rate:0.35\n",
      "Game Episode :210/500, High Score:199,Exploration Rate:0.35\n",
      "Game Episode :211/500, High Score:36,Exploration Rate:0.35\n",
      "Game Episode :212/500, High Score:20,Exploration Rate:0.35\n",
      "Game Episode :213/500, High Score:56,Exploration Rate:0.35\n",
      "Game Episode :214/500, High Score:24,Exploration Rate:0.35\n",
      "Game Episode :215/500, High Score:10,Exploration Rate:0.34\n",
      "Game Episode :216/500, High Score:29,Exploration Rate:0.34\n",
      "Game Episode :217/500, High Score:199,Exploration Rate:0.34\n"
     ]
    },
    {
     "ename": "KeyboardInterrupt",
     "evalue": "",
     "output_type": "error",
     "traceback": [
      "\u001b[1;31m---------------------------------------------------------------------------\u001b[0m",
      "\u001b[1;31mKeyboardInterrupt\u001b[0m                         Traceback (most recent call last)",
      "\u001b[1;32m<ipython-input-40-d268ea7a0c27>\u001b[0m in \u001b[0;36m<module>\u001b[1;34m\u001b[0m\n\u001b[0;32m      7\u001b[0m     \u001b[1;32mfor\u001b[0m \u001b[0mtime\u001b[0m \u001b[1;32min\u001b[0m \u001b[0mrange\u001b[0m\u001b[1;33m(\u001b[0m\u001b[1;36m5000\u001b[0m\u001b[1;33m)\u001b[0m\u001b[1;33m:\u001b[0m\u001b[1;33m\u001b[0m\u001b[1;33m\u001b[0m\u001b[0m\n\u001b[0;32m      8\u001b[0m         \u001b[0menv\u001b[0m\u001b[1;33m.\u001b[0m\u001b[0mrender\u001b[0m\u001b[1;33m(\u001b[0m\u001b[1;33m)\u001b[0m\u001b[1;33m\u001b[0m\u001b[1;33m\u001b[0m\u001b[0m\n\u001b[1;32m----> 9\u001b[1;33m         \u001b[0maction\u001b[0m \u001b[1;33m=\u001b[0m \u001b[0magent\u001b[0m\u001b[1;33m.\u001b[0m\u001b[0mact\u001b[0m\u001b[1;33m(\u001b[0m\u001b[0mstate\u001b[0m\u001b[1;33m)\u001b[0m \u001b[1;31m#action is 0 or 1\u001b[0m\u001b[1;33m\u001b[0m\u001b[1;33m\u001b[0m\u001b[0m\n\u001b[0m\u001b[0;32m     10\u001b[0m         \u001b[0mnext_state\u001b[0m\u001b[1;33m,\u001b[0m\u001b[0mreward\u001b[0m\u001b[1;33m,\u001b[0m\u001b[0mdone\u001b[0m\u001b[1;33m,\u001b[0m\u001b[0mother_info\u001b[0m \u001b[1;33m=\u001b[0m \u001b[0menv\u001b[0m\u001b[1;33m.\u001b[0m\u001b[0mstep\u001b[0m\u001b[1;33m(\u001b[0m\u001b[0maction\u001b[0m\u001b[1;33m)\u001b[0m\u001b[1;33m\u001b[0m\u001b[1;33m\u001b[0m\u001b[0m\n\u001b[0;32m     11\u001b[0m         \u001b[0mreward\u001b[0m \u001b[1;33m=\u001b[0m \u001b[0mreward\u001b[0m \u001b[1;32mif\u001b[0m \u001b[1;32mnot\u001b[0m \u001b[0mdone\u001b[0m \u001b[1;32melse\u001b[0m \u001b[1;33m-\u001b[0m\u001b[1;36m10\u001b[0m\u001b[1;33m\u001b[0m\u001b[1;33m\u001b[0m\u001b[0m\n",
      "\u001b[1;32m<ipython-input-36-69ba65c99958>\u001b[0m in \u001b[0;36mact\u001b[1;34m(self, state)\u001b[0m\n\u001b[0;32m     28\u001b[0m         \u001b[1;32mif\u001b[0m \u001b[0mnp\u001b[0m\u001b[1;33m.\u001b[0m\u001b[0mrandom\u001b[0m\u001b[1;33m.\u001b[0m\u001b[0mrand\u001b[0m\u001b[1;33m(\u001b[0m\u001b[1;33m)\u001b[0m\u001b[1;33m<=\u001b[0m\u001b[0mself\u001b[0m\u001b[1;33m.\u001b[0m\u001b[0mepsilon\u001b[0m\u001b[1;33m:\u001b[0m\u001b[1;33m\u001b[0m\u001b[1;33m\u001b[0m\u001b[0m\n\u001b[0;32m     29\u001b[0m             \u001b[1;32mreturn\u001b[0m \u001b[0mrandom\u001b[0m\u001b[1;33m.\u001b[0m\u001b[0mrandrange\u001b[0m\u001b[1;33m(\u001b[0m\u001b[0mself\u001b[0m\u001b[1;33m.\u001b[0m\u001b[0maction_size\u001b[0m\u001b[1;33m)\u001b[0m\u001b[1;33m\u001b[0m\u001b[1;33m\u001b[0m\u001b[0m\n\u001b[1;32m---> 30\u001b[1;33m         \u001b[0mact_values\u001b[0m \u001b[1;33m=\u001b[0m \u001b[0mself\u001b[0m\u001b[1;33m.\u001b[0m\u001b[0mmodel\u001b[0m\u001b[1;33m.\u001b[0m\u001b[0mpredict\u001b[0m\u001b[1;33m(\u001b[0m\u001b[0mstate\u001b[0m\u001b[1;33m)\u001b[0m \u001b[1;31m# predict reward value based upon current state\u001b[0m\u001b[1;33m\u001b[0m\u001b[1;33m\u001b[0m\u001b[0m\n\u001b[0m\u001b[0;32m     31\u001b[0m         \u001b[1;32mreturn\u001b[0m \u001b[0mnp\u001b[0m\u001b[1;33m.\u001b[0m\u001b[0margmax\u001b[0m\u001b[1;33m(\u001b[0m\u001b[0mact_values\u001b[0m\u001b[1;33m[\u001b[0m\u001b[1;36m0\u001b[0m\u001b[1;33m]\u001b[0m\u001b[1;33m)\u001b[0m \u001b[1;31m#Left or Right\u001b[0m\u001b[1;33m\u001b[0m\u001b[1;33m\u001b[0m\u001b[0m\n\u001b[0;32m     32\u001b[0m \u001b[1;33m\u001b[0m\u001b[0m\n",
      "\u001b[1;32m~\\anaconda3\\lib\\site-packages\\tensorflow\\python\\keras\\engine\\training.py\u001b[0m in \u001b[0;36m_method_wrapper\u001b[1;34m(self, *args, **kwargs)\u001b[0m\n\u001b[0;32m    128\u001b[0m       raise ValueError('{} is not supported in multi-worker mode.'.format(\n\u001b[0;32m    129\u001b[0m           method.__name__))\n\u001b[1;32m--> 130\u001b[1;33m     \u001b[1;32mreturn\u001b[0m \u001b[0mmethod\u001b[0m\u001b[1;33m(\u001b[0m\u001b[0mself\u001b[0m\u001b[1;33m,\u001b[0m \u001b[1;33m*\u001b[0m\u001b[0margs\u001b[0m\u001b[1;33m,\u001b[0m \u001b[1;33m**\u001b[0m\u001b[0mkwargs\u001b[0m\u001b[1;33m)\u001b[0m\u001b[1;33m\u001b[0m\u001b[1;33m\u001b[0m\u001b[0m\n\u001b[0m\u001b[0;32m    131\u001b[0m \u001b[1;33m\u001b[0m\u001b[0m\n\u001b[0;32m    132\u001b[0m   return tf_decorator.make_decorator(\n",
      "\u001b[1;32m~\\anaconda3\\lib\\site-packages\\tensorflow\\python\\keras\\engine\\training.py\u001b[0m in \u001b[0;36mpredict\u001b[1;34m(self, x, batch_size, verbose, steps, callbacks, max_queue_size, workers, use_multiprocessing)\u001b[0m\n\u001b[0;32m   1593\u001b[0m       \u001b[0mself\u001b[0m\u001b[1;33m.\u001b[0m\u001b[0m_predict_counter\u001b[0m\u001b[1;33m.\u001b[0m\u001b[0massign\u001b[0m\u001b[1;33m(\u001b[0m\u001b[1;36m0\u001b[0m\u001b[1;33m)\u001b[0m\u001b[1;33m\u001b[0m\u001b[1;33m\u001b[0m\u001b[0m\n\u001b[0;32m   1594\u001b[0m       \u001b[0mcallbacks\u001b[0m\u001b[1;33m.\u001b[0m\u001b[0mon_predict_begin\u001b[0m\u001b[1;33m(\u001b[0m\u001b[1;33m)\u001b[0m\u001b[1;33m\u001b[0m\u001b[1;33m\u001b[0m\u001b[0m\n\u001b[1;32m-> 1595\u001b[1;33m       \u001b[1;32mfor\u001b[0m \u001b[0m_\u001b[0m\u001b[1;33m,\u001b[0m \u001b[0miterator\u001b[0m \u001b[1;32min\u001b[0m \u001b[0mdata_handler\u001b[0m\u001b[1;33m.\u001b[0m\u001b[0menumerate_epochs\u001b[0m\u001b[1;33m(\u001b[0m\u001b[1;33m)\u001b[0m\u001b[1;33m:\u001b[0m  \u001b[1;31m# Single epoch.\u001b[0m\u001b[1;33m\u001b[0m\u001b[1;33m\u001b[0m\u001b[0m\n\u001b[0m\u001b[0;32m   1596\u001b[0m         \u001b[1;32mwith\u001b[0m \u001b[0mdata_handler\u001b[0m\u001b[1;33m.\u001b[0m\u001b[0mcatch_stop_iteration\u001b[0m\u001b[1;33m(\u001b[0m\u001b[1;33m)\u001b[0m\u001b[1;33m:\u001b[0m\u001b[1;33m\u001b[0m\u001b[1;33m\u001b[0m\u001b[0m\n\u001b[0;32m   1597\u001b[0m           \u001b[1;32mfor\u001b[0m \u001b[0mstep\u001b[0m \u001b[1;32min\u001b[0m \u001b[0mdata_handler\u001b[0m\u001b[1;33m.\u001b[0m\u001b[0msteps\u001b[0m\u001b[1;33m(\u001b[0m\u001b[1;33m)\u001b[0m\u001b[1;33m:\u001b[0m\u001b[1;33m\u001b[0m\u001b[1;33m\u001b[0m\u001b[0m\n",
      "\u001b[1;32m~\\anaconda3\\lib\\site-packages\\tensorflow\\python\\keras\\engine\\data_adapter.py\u001b[0m in \u001b[0;36menumerate_epochs\u001b[1;34m(self)\u001b[0m\n\u001b[0;32m   1136\u001b[0m     \u001b[1;34m\"\"\"Yields `(epoch, tf.data.Iterator)`.\"\"\"\u001b[0m\u001b[1;33m\u001b[0m\u001b[1;33m\u001b[0m\u001b[0m\n\u001b[0;32m   1137\u001b[0m     \u001b[1;32mwith\u001b[0m \u001b[0mself\u001b[0m\u001b[1;33m.\u001b[0m\u001b[0m_truncate_execution_to_epoch\u001b[0m\u001b[1;33m(\u001b[0m\u001b[1;33m)\u001b[0m\u001b[1;33m:\u001b[0m\u001b[1;33m\u001b[0m\u001b[1;33m\u001b[0m\u001b[0m\n\u001b[1;32m-> 1138\u001b[1;33m       \u001b[0mdata_iterator\u001b[0m \u001b[1;33m=\u001b[0m \u001b[0miter\u001b[0m\u001b[1;33m(\u001b[0m\u001b[0mself\u001b[0m\u001b[1;33m.\u001b[0m\u001b[0m_dataset\u001b[0m\u001b[1;33m)\u001b[0m\u001b[1;33m\u001b[0m\u001b[1;33m\u001b[0m\u001b[0m\n\u001b[0m\u001b[0;32m   1139\u001b[0m       \u001b[1;32mfor\u001b[0m \u001b[0mepoch\u001b[0m \u001b[1;32min\u001b[0m \u001b[0mrange\u001b[0m\u001b[1;33m(\u001b[0m\u001b[0mself\u001b[0m\u001b[1;33m.\u001b[0m\u001b[0m_initial_epoch\u001b[0m\u001b[1;33m,\u001b[0m \u001b[0mself\u001b[0m\u001b[1;33m.\u001b[0m\u001b[0m_epochs\u001b[0m\u001b[1;33m)\u001b[0m\u001b[1;33m:\u001b[0m\u001b[1;33m\u001b[0m\u001b[1;33m\u001b[0m\u001b[0m\n\u001b[0;32m   1140\u001b[0m         \u001b[1;32mif\u001b[0m \u001b[0mself\u001b[0m\u001b[1;33m.\u001b[0m\u001b[0m_insufficient_data\u001b[0m\u001b[1;33m:\u001b[0m  \u001b[1;31m# Set by `catch_stop_iteration`.\u001b[0m\u001b[1;33m\u001b[0m\u001b[1;33m\u001b[0m\u001b[0m\n",
      "\u001b[1;32m~\\anaconda3\\lib\\site-packages\\tensorflow\\python\\data\\ops\\dataset_ops.py\u001b[0m in \u001b[0;36m__iter__\u001b[1;34m(self)\u001b[0m\n\u001b[0;32m    413\u001b[0m     \"\"\"\n\u001b[0;32m    414\u001b[0m     \u001b[1;32mif\u001b[0m \u001b[0mcontext\u001b[0m\u001b[1;33m.\u001b[0m\u001b[0mexecuting_eagerly\u001b[0m\u001b[1;33m(\u001b[0m\u001b[1;33m)\u001b[0m \u001b[1;32mor\u001b[0m \u001b[0mops\u001b[0m\u001b[1;33m.\u001b[0m\u001b[0minside_function\u001b[0m\u001b[1;33m(\u001b[0m\u001b[1;33m)\u001b[0m\u001b[1;33m:\u001b[0m\u001b[1;33m\u001b[0m\u001b[1;33m\u001b[0m\u001b[0m\n\u001b[1;32m--> 415\u001b[1;33m       \u001b[1;32mreturn\u001b[0m \u001b[0miterator_ops\u001b[0m\u001b[1;33m.\u001b[0m\u001b[0mOwnedIterator\u001b[0m\u001b[1;33m(\u001b[0m\u001b[0mself\u001b[0m\u001b[1;33m)\u001b[0m\u001b[1;33m\u001b[0m\u001b[1;33m\u001b[0m\u001b[0m\n\u001b[0m\u001b[0;32m    416\u001b[0m     \u001b[1;32melse\u001b[0m\u001b[1;33m:\u001b[0m\u001b[1;33m\u001b[0m\u001b[1;33m\u001b[0m\u001b[0m\n\u001b[0;32m    417\u001b[0m       raise RuntimeError(\"__iter__() is only supported inside of tf.function \"\n",
      "\u001b[1;32m~\\anaconda3\\lib\\site-packages\\tensorflow\\python\\data\\ops\\iterator_ops.py\u001b[0m in \u001b[0;36m__init__\u001b[1;34m(self, dataset, components, element_spec, job_token)\u001b[0m\n\u001b[0;32m    694\u001b[0m           context.context().device_spec.device_type != \"CPU\"):\n\u001b[0;32m    695\u001b[0m         \u001b[1;32mwith\u001b[0m \u001b[0mops\u001b[0m\u001b[1;33m.\u001b[0m\u001b[0mdevice\u001b[0m\u001b[1;33m(\u001b[0m\u001b[1;34m\"/cpu:0\"\u001b[0m\u001b[1;33m)\u001b[0m\u001b[1;33m:\u001b[0m\u001b[1;33m\u001b[0m\u001b[1;33m\u001b[0m\u001b[0m\n\u001b[1;32m--> 696\u001b[1;33m           \u001b[0mself\u001b[0m\u001b[1;33m.\u001b[0m\u001b[0m_create_iterator\u001b[0m\u001b[1;33m(\u001b[0m\u001b[0mdataset\u001b[0m\u001b[1;33m)\u001b[0m\u001b[1;33m\u001b[0m\u001b[1;33m\u001b[0m\u001b[0m\n\u001b[0m\u001b[0;32m    697\u001b[0m       \u001b[1;32melse\u001b[0m\u001b[1;33m:\u001b[0m\u001b[1;33m\u001b[0m\u001b[1;33m\u001b[0m\u001b[0m\n\u001b[0;32m    698\u001b[0m         \u001b[0mself\u001b[0m\u001b[1;33m.\u001b[0m\u001b[0m_create_iterator\u001b[0m\u001b[1;33m(\u001b[0m\u001b[0mdataset\u001b[0m\u001b[1;33m)\u001b[0m\u001b[1;33m\u001b[0m\u001b[1;33m\u001b[0m\u001b[0m\n",
      "\u001b[1;32m~\\anaconda3\\lib\\site-packages\\tensorflow\\python\\data\\ops\\iterator_ops.py\u001b[0m in \u001b[0;36m_create_iterator\u001b[1;34m(self, dataset)\u001b[0m\n\u001b[0;32m    720\u001b[0m               output_shapes=self._flat_output_shapes))\n\u001b[0;32m    721\u001b[0m       \u001b[1;32mif\u001b[0m \u001b[0mself\u001b[0m\u001b[1;33m.\u001b[0m\u001b[0m_job_token\u001b[0m \u001b[1;32mis\u001b[0m \u001b[1;32mNone\u001b[0m\u001b[1;33m:\u001b[0m\u001b[1;33m\u001b[0m\u001b[1;33m\u001b[0m\u001b[0m\n\u001b[1;32m--> 722\u001b[1;33m         \u001b[0mgen_dataset_ops\u001b[0m\u001b[1;33m.\u001b[0m\u001b[0mmake_iterator\u001b[0m\u001b[1;33m(\u001b[0m\u001b[0mds_variant\u001b[0m\u001b[1;33m,\u001b[0m \u001b[0mself\u001b[0m\u001b[1;33m.\u001b[0m\u001b[0m_iterator_resource\u001b[0m\u001b[1;33m)\u001b[0m\u001b[1;33m\u001b[0m\u001b[1;33m\u001b[0m\u001b[0m\n\u001b[0m\u001b[0;32m    723\u001b[0m       \u001b[1;32melse\u001b[0m\u001b[1;33m:\u001b[0m\u001b[1;33m\u001b[0m\u001b[1;33m\u001b[0m\u001b[0m\n\u001b[0;32m    724\u001b[0m         gen_experimental_dataset_ops.make_data_service_iterator(\n",
      "\u001b[1;32m~\\anaconda3\\lib\\site-packages\\tensorflow\\python\\ops\\gen_dataset_ops.py\u001b[0m in \u001b[0;36mmake_iterator\u001b[1;34m(dataset, iterator, name)\u001b[0m\n\u001b[0;32m   3005\u001b[0m       _result = pywrap_tfe.TFE_Py_FastPathExecute(\n\u001b[0;32m   3006\u001b[0m         \u001b[0m_ctx\u001b[0m\u001b[1;33m.\u001b[0m\u001b[0m_context_handle\u001b[0m\u001b[1;33m,\u001b[0m \u001b[0mtld\u001b[0m\u001b[1;33m.\u001b[0m\u001b[0mdevice_name\u001b[0m\u001b[1;33m,\u001b[0m \u001b[1;34m\"MakeIterator\"\u001b[0m\u001b[1;33m,\u001b[0m \u001b[0mname\u001b[0m\u001b[1;33m,\u001b[0m\u001b[1;33m\u001b[0m\u001b[1;33m\u001b[0m\u001b[0m\n\u001b[1;32m-> 3007\u001b[1;33m         tld.op_callbacks, dataset, iterator)\n\u001b[0m\u001b[0;32m   3008\u001b[0m       \u001b[1;32mreturn\u001b[0m \u001b[0m_result\u001b[0m\u001b[1;33m\u001b[0m\u001b[1;33m\u001b[0m\u001b[0m\n\u001b[0;32m   3009\u001b[0m     \u001b[1;32mexcept\u001b[0m \u001b[0m_core\u001b[0m\u001b[1;33m.\u001b[0m\u001b[0m_NotOkStatusException\u001b[0m \u001b[1;32mas\u001b[0m \u001b[0me\u001b[0m\u001b[1;33m:\u001b[0m\u001b[1;33m\u001b[0m\u001b[1;33m\u001b[0m\u001b[0m\n",
      "\u001b[1;31mKeyboardInterrupt\u001b[0m: "
     ]
    }
   ],
   "source": [
    "agent = Agent(state_size, action_size) # initialise agent\n",
    "done = False\n",
    "for e in range(n_episodes):\n",
    "    state = env.reset()\n",
    "    state = np.reshape(state,[1,state_size])\n",
    "    \n",
    "    for time in range(5000):\n",
    "        env.render()\n",
    "        action = agent.act(state) #action is 0 or 1\n",
    "        next_state,reward,done,other_info = env.step(action) \n",
    "        reward = reward if not done else -10\n",
    "        next_state = np.reshape(next_state,[1,state_size])\n",
    "        agent.remember(state,action,reward,next_state,done)\n",
    "        state = next_state\n",
    "        \n",
    "        if done:\n",
    "            print(\"Game Episode :{}/{}, High Score:{},Exploration Rate:{:.2}\".format(e,n_episodes,time,agent.epsilon))\n",
    "            break\n",
    "            \n",
    "    if len(agent.memory)>32:\n",
    "        agent.train(32)\n",
    "    \n",
    "    if e%50==0:\n",
    "        agent.save(out_dir+\"weights_\"+'{:04d}'.format(e)+\".hdf5\")\n",
    "        \n",
    "env.close()"
   ]
  },
  {
   "cell_type": "code",
   "execution_count": null,
   "metadata": {},
   "outputs": [],
   "source": []
  }
 ],
 "metadata": {
  "kernelspec": {
   "display_name": "Python 3",
   "language": "python",
   "name": "python3"
  },
  "language_info": {
   "codemirror_mode": {
    "name": "ipython",
    "version": 3
   },
   "file_extension": ".py",
   "mimetype": "text/x-python",
   "name": "python",
   "nbconvert_exporter": "python",
   "pygments_lexer": "ipython3",
   "version": "3.7.6"
  }
 },
 "nbformat": 4,
 "nbformat_minor": 4
}
